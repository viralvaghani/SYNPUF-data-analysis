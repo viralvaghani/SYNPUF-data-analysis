{
 "cells": [
  {
   "cell_type": "markdown",
   "metadata": {},
   "source": [
    "# CSV data wrangling using numpy and pandas\n",
    "\n",
    "### Purpose: \n",
    "The purpose of this notebook is to extract the informatin for year 2009 from csv file which contain Medicare Outpatient claims data extracted from synpuf data source (https://www.cms.gov/Research-Statistics-Data-and-Systems/Downloadable-Public-Use-Files/SynPUFs/DE_Syn_PUF) using pandas or numpy libaries.\n",
    "\n",
    "### Input: \n",
    "A csv file which contains outpatient medicare claims data.\n",
    "\n",
    "### Output:\n",
    "A csv file which has extracted information from input file for year 2009 including Patient ID, Total claims in the year, Total Costs of outpatient care, Number of physician visited, Most frequent claim diagnosis, Most frequent admitting diagnosis\n",
    "\n",
    "### Steps:\n",
    "  Fist import all the relavant libaries,read input csv file,check few rows of csv file, and data type for each variable\n",
    "  \n",
    "  If its necessary, convert relavant column varible to appropriate data type e.g datetime format,numeric format\n",
    "  \n",
    "  Extract the data for year 2009 only and store it as dataframe\n",
    "  \n",
    "  Perform all the counting and calculation for above extracted dataframe only as mentioned in below steps\n",
    "  1. To count total claims, first slice the relavant data and then use groupby function to count value for each patient\n",
    "  2. To sum total cost of claims, first slice the relavant data and then use groupby function to sum the value for each\n",
    "     patient\n",
    "  3. To count unique physicians visited, define the function which will give unique provider count and then use groupby\n",
    "     function to call the function\n",
    "  4. To idenitfy most frequent claim diagnosis, first define the function which will give value counts across all the claim\n",
    "     diagnosis columns\n",
    "  5. To identify most admitting diagnosis, first slice the relevant data and then use groupby function and value count\n",
    "     function to identify most frequent admitting diagnosis\n",
    "  \n",
    "  After completing above five steps, concotenate the extracted dataframe and export the dataframe into csv format."
   ]
  },
  {
   "cell_type": "markdown",
   "metadata": {},
   "source": [
    "## Reading CSV file \n",
    "\n",
    "We are going to read csv file using pandas"
   ]
  },
  {
   "cell_type": "code",
   "execution_count": 2,
   "metadata": {},
   "outputs": [
    {
     "data": {
      "text/html": [
       "<div>\n",
       "<style scoped>\n",
       "    .dataframe tbody tr th:only-of-type {\n",
       "        vertical-align: middle;\n",
       "    }\n",
       "\n",
       "    .dataframe tbody tr th {\n",
       "        vertical-align: top;\n",
       "    }\n",
       "\n",
       "    .dataframe thead th {\n",
       "        text-align: right;\n",
       "    }\n",
       "</style>\n",
       "<table border=\"1\" class=\"dataframe\">\n",
       "  <thead>\n",
       "    <tr style=\"text-align: right;\">\n",
       "      <th></th>\n",
       "      <th>Unnamed: 0</th>\n",
       "      <th>DESYNPUF_ID</th>\n",
       "      <th>CLM_ID</th>\n",
       "      <th>SEGMENT</th>\n",
       "      <th>CLM_FROM_DT</th>\n",
       "      <th>CLM_THRU_DT</th>\n",
       "      <th>PRVDR_NUM</th>\n",
       "      <th>CLM_PMT_AMT</th>\n",
       "      <th>NCH_PRMRY_PYR_CLM_PD_AMT</th>\n",
       "      <th>AT_PHYSN_NPI</th>\n",
       "      <th>...</th>\n",
       "      <th>HCPCS_CD_36</th>\n",
       "      <th>HCPCS_CD_37</th>\n",
       "      <th>HCPCS_CD_38</th>\n",
       "      <th>HCPCS_CD_39</th>\n",
       "      <th>HCPCS_CD_40</th>\n",
       "      <th>HCPCS_CD_41</th>\n",
       "      <th>HCPCS_CD_42</th>\n",
       "      <th>HCPCS_CD_43</th>\n",
       "      <th>HCPCS_CD_44</th>\n",
       "      <th>HCPCS_CD_45</th>\n",
       "    </tr>\n",
       "  </thead>\n",
       "  <tbody>\n",
       "    <tr>\n",
       "      <th>0</th>\n",
       "      <td>0</td>\n",
       "      <td>00013D2EFD8E45D1</td>\n",
       "      <td>542192281063886</td>\n",
       "      <td>1</td>\n",
       "      <td>20080904</td>\n",
       "      <td>20080904</td>\n",
       "      <td>2600RA</td>\n",
       "      <td>50.00</td>\n",
       "      <td>0.00</td>\n",
       "      <td>4824842417</td>\n",
       "      <td>...</td>\n",
       "      <td>NaN</td>\n",
       "      <td>NaN</td>\n",
       "      <td>NaN</td>\n",
       "      <td>NaN</td>\n",
       "      <td>NaN</td>\n",
       "      <td>NaN</td>\n",
       "      <td>NaN</td>\n",
       "      <td>NaN</td>\n",
       "      <td>NaN</td>\n",
       "      <td>NaN</td>\n",
       "    </tr>\n",
       "    <tr>\n",
       "      <th>1</th>\n",
       "      <td>1</td>\n",
       "      <td>00016F745862898F</td>\n",
       "      <td>542272281166593</td>\n",
       "      <td>1</td>\n",
       "      <td>20090602</td>\n",
       "      <td>20090602</td>\n",
       "      <td>3901GS</td>\n",
       "      <td>30.00</td>\n",
       "      <td>0.00</td>\n",
       "      <td>2963419753</td>\n",
       "      <td>...</td>\n",
       "      <td>NaN</td>\n",
       "      <td>NaN</td>\n",
       "      <td>NaN</td>\n",
       "      <td>NaN</td>\n",
       "      <td>NaN</td>\n",
       "      <td>NaN</td>\n",
       "      <td>NaN</td>\n",
       "      <td>NaN</td>\n",
       "      <td>NaN</td>\n",
       "      <td>NaN</td>\n",
       "    </tr>\n",
       "    <tr>\n",
       "      <th>2</th>\n",
       "      <td>2</td>\n",
       "      <td>00016F745862898F</td>\n",
       "      <td>542282281644416</td>\n",
       "      <td>1</td>\n",
       "      <td>20090623</td>\n",
       "      <td>20090623</td>\n",
       "      <td>3939PG</td>\n",
       "      <td>30.00</td>\n",
       "      <td>0.00</td>\n",
       "      <td>5737807753</td>\n",
       "      <td>...</td>\n",
       "      <td>NaN</td>\n",
       "      <td>NaN</td>\n",
       "      <td>NaN</td>\n",
       "      <td>NaN</td>\n",
       "      <td>NaN</td>\n",
       "      <td>NaN</td>\n",
       "      <td>NaN</td>\n",
       "      <td>NaN</td>\n",
       "      <td>NaN</td>\n",
       "      <td>NaN</td>\n",
       "    </tr>\n",
       "    <tr>\n",
       "      <th>3</th>\n",
       "      <td>3</td>\n",
       "      <td>0001FDD721E223DC</td>\n",
       "      <td>542642281250669</td>\n",
       "      <td>1</td>\n",
       "      <td>20091011</td>\n",
       "      <td>20091011</td>\n",
       "      <td>3902NU</td>\n",
       "      <td>30.00</td>\n",
       "      <td>0.00</td>\n",
       "      <td>1233847710</td>\n",
       "      <td>...</td>\n",
       "      <td>NaN</td>\n",
       "      <td>NaN</td>\n",
       "      <td>NaN</td>\n",
       "      <td>NaN</td>\n",
       "      <td>NaN</td>\n",
       "      <td>NaN</td>\n",
       "      <td>NaN</td>\n",
       "      <td>NaN</td>\n",
       "      <td>NaN</td>\n",
       "      <td>NaN</td>\n",
       "    </tr>\n",
       "    <tr>\n",
       "      <th>4</th>\n",
       "      <td>4</td>\n",
       "      <td>00024B3D2352D2D0</td>\n",
       "      <td>542242281386963</td>\n",
       "      <td>1</td>\n",
       "      <td>20080712</td>\n",
       "      <td>20080712</td>\n",
       "      <td>5200TV</td>\n",
       "      <td>30.00</td>\n",
       "      <td>0.00</td>\n",
       "      <td>9688809345</td>\n",
       "      <td>...</td>\n",
       "      <td>NaN</td>\n",
       "      <td>NaN</td>\n",
       "      <td>NaN</td>\n",
       "      <td>NaN</td>\n",
       "      <td>NaN</td>\n",
       "      <td>NaN</td>\n",
       "      <td>NaN</td>\n",
       "      <td>NaN</td>\n",
       "      <td>NaN</td>\n",
       "      <td>NaN</td>\n",
       "    </tr>\n",
       "  </tbody>\n",
       "</table>\n",
       "<p>5 rows × 77 columns</p>\n",
       "</div>"
      ],
      "text/plain": [
       "  Unnamed: 0       DESYNPUF_ID           CLM_ID SEGMENT CLM_FROM_DT  \\\n",
       "0          0  00013D2EFD8E45D1  542192281063886       1    20080904   \n",
       "1          1  00016F745862898F  542272281166593       1    20090602   \n",
       "2          2  00016F745862898F  542282281644416       1    20090623   \n",
       "3          3  0001FDD721E223DC  542642281250669       1    20091011   \n",
       "4          4  00024B3D2352D2D0  542242281386963       1    20080712   \n",
       "\n",
       "  CLM_THRU_DT PRVDR_NUM CLM_PMT_AMT NCH_PRMRY_PYR_CLM_PD_AMT AT_PHYSN_NPI  \\\n",
       "0    20080904    2600RA       50.00                     0.00   4824842417   \n",
       "1    20090602    3901GS       30.00                     0.00   2963419753   \n",
       "2    20090623    3939PG       30.00                     0.00   5737807753   \n",
       "3    20091011    3902NU       30.00                     0.00   1233847710   \n",
       "4    20080712    5200TV       30.00                     0.00   9688809345   \n",
       "\n",
       "   ... HCPCS_CD_36 HCPCS_CD_37 HCPCS_CD_38 HCPCS_CD_39 HCPCS_CD_40  \\\n",
       "0  ...         NaN         NaN         NaN         NaN         NaN   \n",
       "1  ...         NaN         NaN         NaN         NaN         NaN   \n",
       "2  ...         NaN         NaN         NaN         NaN         NaN   \n",
       "3  ...         NaN         NaN         NaN         NaN         NaN   \n",
       "4  ...         NaN         NaN         NaN         NaN         NaN   \n",
       "\n",
       "  HCPCS_CD_41 HCPCS_CD_42 HCPCS_CD_43 HCPCS_CD_44 HCPCS_CD_45  \n",
       "0         NaN         NaN         NaN         NaN         NaN  \n",
       "1         NaN         NaN         NaN         NaN         NaN  \n",
       "2         NaN         NaN         NaN         NaN         NaN  \n",
       "3         NaN         NaN         NaN         NaN         NaN  \n",
       "4         NaN         NaN         NaN         NaN         NaN  \n",
       "\n",
       "[5 rows x 77 columns]"
      ]
     },
     "execution_count": 2,
     "metadata": {},
     "output_type": "execute_result"
    }
   ],
   "source": [
    "#Import relevant dependancies\n",
    "import os\n",
    "import csv\n",
    "import pandas as pd\n",
    "import numpy as np\n",
    "\n",
    "#File to load\n",
    "file_to_load = \"synpuf_outpatient_claims.csv\"\n",
    "\n",
    "#Read medicare outpatient file and store into pandas dataframe\n",
    "outpatient_df=pd.read_csv(file_to_load, parse_dates=True,dtype=\"unicode\")\n",
    "\n",
    "#check first few rows of the data\n",
    "outpatient_df.head(5)"
   ]
  },
  {
   "cell_type": "code",
   "execution_count": 3,
   "metadata": {},
   "outputs": [
    {
     "data": {
      "text/plain": [
       "(790790, 77)"
      ]
     },
     "execution_count": 3,
     "metadata": {},
     "output_type": "execute_result"
    }
   ],
   "source": [
    "#Check total number of rows, and columns\n",
    "outpatient_df.shape"
   ]
  },
  {
   "cell_type": "code",
   "execution_count": 4,
   "metadata": {},
   "outputs": [
    {
     "data": {
      "text/plain": [
       "CLM_FROM_DT      11253\n",
       "CLM_THRU_DT      11253\n",
       "AT_PHYSN_NPI     17790\n",
       "OP_PHYSN_NPI    656357\n",
       "OT_PHYSN_NPI    533124\n",
       "                 ...  \n",
       "HCPCS_CD_41     778122\n",
       "HCPCS_CD_42     778914\n",
       "HCPCS_CD_43     779594\n",
       "HCPCS_CD_44     780234\n",
       "HCPCS_CD_45     790790\n",
       "Length: 67, dtype: int64"
      ]
     },
     "execution_count": 4,
     "metadata": {},
     "output_type": "execute_result"
    }
   ],
   "source": [
    "#check the null values\n",
    "outpatient_df.isnull().sum()[outpatient_df.isnull().sum()>0]"
   ]
  },
  {
   "cell_type": "markdown",
   "metadata": {},
   "source": [
    "## Extracting the information for the year 2009 only\n",
    "\n",
    "We are going to convert relavant columns to appropriate data format and then extracting data for 2009 year.\n"
   ]
  },
  {
   "cell_type": "code",
   "execution_count": 5,
   "metadata": {},
   "outputs": [
    {
     "data": {
      "text/plain": [
       "Index(['Unnamed: 0', 'DESYNPUF_ID', 'CLM_ID', 'SEGMENT', 'CLM_FROM_DT',\n",
       "       'CLM_THRU_DT', 'PRVDR_NUM', 'CLM_PMT_AMT', 'NCH_PRMRY_PYR_CLM_PD_AMT',\n",
       "       'AT_PHYSN_NPI', 'OP_PHYSN_NPI', 'OT_PHYSN_NPI',\n",
       "       'NCH_BENE_BLOOD_DDCTBL_LBLTY_AM', 'ICD9_DGNS_CD_1', 'ICD9_DGNS_CD_2',\n",
       "       'ICD9_DGNS_CD_3', 'ICD9_DGNS_CD_4', 'ICD9_DGNS_CD_5', 'ICD9_DGNS_CD_6',\n",
       "       'ICD9_DGNS_CD_7', 'ICD9_DGNS_CD_8', 'ICD9_DGNS_CD_9', 'ICD9_DGNS_CD_10',\n",
       "       'ICD9_PRCDR_CD_1', 'ICD9_PRCDR_CD_2', 'ICD9_PRCDR_CD_3',\n",
       "       'ICD9_PRCDR_CD_4', 'ICD9_PRCDR_CD_5', 'ICD9_PRCDR_CD_6',\n",
       "       'NCH_BENE_PTB_DDCTBL_AMT', 'NCH_BENE_PTB_COINSRNC_AMT',\n",
       "       'ADMTNG_ICD9_DGNS_CD', 'HCPCS_CD_1', 'HCPCS_CD_2', 'HCPCS_CD_3',\n",
       "       'HCPCS_CD_4', 'HCPCS_CD_5', 'HCPCS_CD_6', 'HCPCS_CD_7', 'HCPCS_CD_8',\n",
       "       'HCPCS_CD_9', 'HCPCS_CD_10', 'HCPCS_CD_11', 'HCPCS_CD_12',\n",
       "       'HCPCS_CD_13', 'HCPCS_CD_14', 'HCPCS_CD_15', 'HCPCS_CD_16',\n",
       "       'HCPCS_CD_17', 'HCPCS_CD_18', 'HCPCS_CD_19', 'HCPCS_CD_20',\n",
       "       'HCPCS_CD_21', 'HCPCS_CD_22', 'HCPCS_CD_23', 'HCPCS_CD_24',\n",
       "       'HCPCS_CD_25', 'HCPCS_CD_26', 'HCPCS_CD_27', 'HCPCS_CD_28',\n",
       "       'HCPCS_CD_29', 'HCPCS_CD_30', 'HCPCS_CD_31', 'HCPCS_CD_32',\n",
       "       'HCPCS_CD_33', 'HCPCS_CD_34', 'HCPCS_CD_35', 'HCPCS_CD_36',\n",
       "       'HCPCS_CD_37', 'HCPCS_CD_38', 'HCPCS_CD_39', 'HCPCS_CD_40',\n",
       "       'HCPCS_CD_41', 'HCPCS_CD_42', 'HCPCS_CD_43', 'HCPCS_CD_44',\n",
       "       'HCPCS_CD_45'],\n",
       "      dtype='object')"
      ]
     },
     "execution_count": 5,
     "metadata": {},
     "output_type": "execute_result"
    }
   ],
   "source": [
    "#Display the columns header\n",
    "outpatient_df.columns"
   ]
  },
  {
   "cell_type": "code",
   "execution_count": 6,
   "metadata": {},
   "outputs": [
    {
     "data": {
      "text/html": [
       "<div>\n",
       "<style scoped>\n",
       "    .dataframe tbody tr th:only-of-type {\n",
       "        vertical-align: middle;\n",
       "    }\n",
       "\n",
       "    .dataframe tbody tr th {\n",
       "        vertical-align: top;\n",
       "    }\n",
       "\n",
       "    .dataframe thead th {\n",
       "        text-align: right;\n",
       "    }\n",
       "</style>\n",
       "<table border=\"1\" class=\"dataframe\">\n",
       "  <thead>\n",
       "    <tr style=\"text-align: right;\">\n",
       "      <th></th>\n",
       "      <th>Unnamed: 0</th>\n",
       "      <th>DESYNPUF_ID</th>\n",
       "      <th>CLM_ID</th>\n",
       "      <th>SEGMENT</th>\n",
       "      <th>CLM_FROM_DT</th>\n",
       "      <th>CLM_THRU_DT</th>\n",
       "      <th>PRVDR_NUM</th>\n",
       "      <th>CLM_PMT_AMT</th>\n",
       "      <th>NCH_PRMRY_PYR_CLM_PD_AMT</th>\n",
       "      <th>AT_PHYSN_NPI</th>\n",
       "      <th>...</th>\n",
       "      <th>HCPCS_CD_36</th>\n",
       "      <th>HCPCS_CD_37</th>\n",
       "      <th>HCPCS_CD_38</th>\n",
       "      <th>HCPCS_CD_39</th>\n",
       "      <th>HCPCS_CD_40</th>\n",
       "      <th>HCPCS_CD_41</th>\n",
       "      <th>HCPCS_CD_42</th>\n",
       "      <th>HCPCS_CD_43</th>\n",
       "      <th>HCPCS_CD_44</th>\n",
       "      <th>HCPCS_CD_45</th>\n",
       "    </tr>\n",
       "  </thead>\n",
       "  <tbody>\n",
       "    <tr>\n",
       "      <th>1</th>\n",
       "      <td>1</td>\n",
       "      <td>00016F745862898F</td>\n",
       "      <td>542272281166593</td>\n",
       "      <td>1</td>\n",
       "      <td>2009-06-02</td>\n",
       "      <td>2009-06-02</td>\n",
       "      <td>3901GS</td>\n",
       "      <td>30.0</td>\n",
       "      <td>0.00</td>\n",
       "      <td>2963419753</td>\n",
       "      <td>...</td>\n",
       "      <td>NaN</td>\n",
       "      <td>NaN</td>\n",
       "      <td>NaN</td>\n",
       "      <td>NaN</td>\n",
       "      <td>NaN</td>\n",
       "      <td>NaN</td>\n",
       "      <td>NaN</td>\n",
       "      <td>NaN</td>\n",
       "      <td>NaN</td>\n",
       "      <td>NaN</td>\n",
       "    </tr>\n",
       "    <tr>\n",
       "      <th>2</th>\n",
       "      <td>2</td>\n",
       "      <td>00016F745862898F</td>\n",
       "      <td>542282281644416</td>\n",
       "      <td>1</td>\n",
       "      <td>2009-06-23</td>\n",
       "      <td>2009-06-23</td>\n",
       "      <td>3939PG</td>\n",
       "      <td>30.0</td>\n",
       "      <td>0.00</td>\n",
       "      <td>5737807753</td>\n",
       "      <td>...</td>\n",
       "      <td>NaN</td>\n",
       "      <td>NaN</td>\n",
       "      <td>NaN</td>\n",
       "      <td>NaN</td>\n",
       "      <td>NaN</td>\n",
       "      <td>NaN</td>\n",
       "      <td>NaN</td>\n",
       "      <td>NaN</td>\n",
       "      <td>NaN</td>\n",
       "      <td>NaN</td>\n",
       "    </tr>\n",
       "    <tr>\n",
       "      <th>3</th>\n",
       "      <td>3</td>\n",
       "      <td>0001FDD721E223DC</td>\n",
       "      <td>542642281250669</td>\n",
       "      <td>1</td>\n",
       "      <td>2009-10-11</td>\n",
       "      <td>2009-10-11</td>\n",
       "      <td>3902NU</td>\n",
       "      <td>30.0</td>\n",
       "      <td>0.00</td>\n",
       "      <td>1233847710</td>\n",
       "      <td>...</td>\n",
       "      <td>NaN</td>\n",
       "      <td>NaN</td>\n",
       "      <td>NaN</td>\n",
       "      <td>NaN</td>\n",
       "      <td>NaN</td>\n",
       "      <td>NaN</td>\n",
       "      <td>NaN</td>\n",
       "      <td>NaN</td>\n",
       "      <td>NaN</td>\n",
       "      <td>NaN</td>\n",
       "    </tr>\n",
       "    <tr>\n",
       "      <th>5</th>\n",
       "      <td>5</td>\n",
       "      <td>00024B3D2352D2D0</td>\n",
       "      <td>542442280980633</td>\n",
       "      <td>1</td>\n",
       "      <td>2009-02-12</td>\n",
       "      <td>2009-02-12</td>\n",
       "      <td>5213ZG</td>\n",
       "      <td>80.0</td>\n",
       "      <td>0.00</td>\n",
       "      <td>4199631965</td>\n",
       "      <td>...</td>\n",
       "      <td>NaN</td>\n",
       "      <td>NaN</td>\n",
       "      <td>NaN</td>\n",
       "      <td>NaN</td>\n",
       "      <td>NaN</td>\n",
       "      <td>NaN</td>\n",
       "      <td>NaN</td>\n",
       "      <td>NaN</td>\n",
       "      <td>NaN</td>\n",
       "      <td>NaN</td>\n",
       "    </tr>\n",
       "    <tr>\n",
       "      <th>6</th>\n",
       "      <td>6</td>\n",
       "      <td>00024B3D2352D2D0</td>\n",
       "      <td>542422281208985</td>\n",
       "      <td>1</td>\n",
       "      <td>2009-06-27</td>\n",
       "      <td>2009-06-27</td>\n",
       "      <td>5213RM</td>\n",
       "      <td>10.0</td>\n",
       "      <td>0.00</td>\n",
       "      <td>1449018601</td>\n",
       "      <td>...</td>\n",
       "      <td>NaN</td>\n",
       "      <td>NaN</td>\n",
       "      <td>NaN</td>\n",
       "      <td>NaN</td>\n",
       "      <td>NaN</td>\n",
       "      <td>NaN</td>\n",
       "      <td>NaN</td>\n",
       "      <td>NaN</td>\n",
       "      <td>NaN</td>\n",
       "      <td>NaN</td>\n",
       "    </tr>\n",
       "  </tbody>\n",
       "</table>\n",
       "<p>5 rows × 77 columns</p>\n",
       "</div>"
      ],
      "text/plain": [
       "  Unnamed: 0       DESYNPUF_ID           CLM_ID SEGMENT CLM_FROM_DT  \\\n",
       "1          1  00016F745862898F  542272281166593       1  2009-06-02   \n",
       "2          2  00016F745862898F  542282281644416       1  2009-06-23   \n",
       "3          3  0001FDD721E223DC  542642281250669       1  2009-10-11   \n",
       "5          5  00024B3D2352D2D0  542442280980633       1  2009-02-12   \n",
       "6          6  00024B3D2352D2D0  542422281208985       1  2009-06-27   \n",
       "\n",
       "  CLM_THRU_DT PRVDR_NUM  CLM_PMT_AMT NCH_PRMRY_PYR_CLM_PD_AMT AT_PHYSN_NPI  \\\n",
       "1  2009-06-02    3901GS         30.0                     0.00   2963419753   \n",
       "2  2009-06-23    3939PG         30.0                     0.00   5737807753   \n",
       "3  2009-10-11    3902NU         30.0                     0.00   1233847710   \n",
       "5  2009-02-12    5213ZG         80.0                     0.00   4199631965   \n",
       "6  2009-06-27    5213RM         10.0                     0.00   1449018601   \n",
       "\n",
       "   ... HCPCS_CD_36 HCPCS_CD_37 HCPCS_CD_38 HCPCS_CD_39 HCPCS_CD_40  \\\n",
       "1  ...         NaN         NaN         NaN         NaN         NaN   \n",
       "2  ...         NaN         NaN         NaN         NaN         NaN   \n",
       "3  ...         NaN         NaN         NaN         NaN         NaN   \n",
       "5  ...         NaN         NaN         NaN         NaN         NaN   \n",
       "6  ...         NaN         NaN         NaN         NaN         NaN   \n",
       "\n",
       "  HCPCS_CD_41 HCPCS_CD_42 HCPCS_CD_43 HCPCS_CD_44 HCPCS_CD_45  \n",
       "1         NaN         NaN         NaN         NaN         NaN  \n",
       "2         NaN         NaN         NaN         NaN         NaN  \n",
       "3         NaN         NaN         NaN         NaN         NaN  \n",
       "5         NaN         NaN         NaN         NaN         NaN  \n",
       "6         NaN         NaN         NaN         NaN         NaN  \n",
       "\n",
       "[5 rows x 77 columns]"
      ]
     },
     "execution_count": 6,
     "metadata": {},
     "output_type": "execute_result"
    }
   ],
   "source": [
    "#Convert the \"CLM_FROM_DT\" and \"CLM_THRU_DT\" into datetime format\n",
    "outpatient_df[\"CLM_FROM_DT\"] = pd.to_datetime(outpatient_df[\"CLM_FROM_DT\"])\n",
    "outpatient_df[\"CLM_THRU_DT\"] = pd.to_datetime(outpatient_df[\"CLM_THRU_DT\"])\n",
    "\n",
    "#Convert dataframe \"object\" type to numeric type\n",
    "outpatient_df[\"CLM_PMT_AMT\"]=pd.to_numeric(outpatient_df[\"CLM_PMT_AMT\"])\n",
    "\n",
    "#Extracting data for only year 2009 from \"CLM_FROM_DT\"\n",
    "outpatient_2009=outpatient_df[(outpatient_df[\"CLM_FROM_DT\"]>=\"2009-01-01\")&(outpatient_df[\"CLM_FROM_DT\"]<=\"2009-12-31\")]\n",
    "outpatient_2009.head(5)"
   ]
  },
  {
   "cell_type": "code",
   "execution_count": 7,
   "metadata": {},
   "outputs": [
    {
     "data": {
      "text/plain": [
       "(322358, 77)"
      ]
     },
     "execution_count": 7,
     "metadata": {},
     "output_type": "execute_result"
    }
   ],
   "source": [
    "outpatient_2009.shape"
   ]
  },
  {
   "cell_type": "markdown",
   "metadata": {},
   "source": [
    "## 1. Counting Total claims in the year"
   ]
  },
  {
   "cell_type": "code",
   "execution_count": 8,
   "metadata": {},
   "outputs": [
    {
     "name": "stdout",
     "output_type": "stream",
     "text": [
      "                  Total claims in the year\n",
      "PatientID                                 \n",
      "00016F745862898F                         2\n",
      "0001FDD721E223DC                         1\n",
      "00024B3D2352D2D0                         2\n",
      "0002F28CE057345B                        12\n",
      "000308435E3E5B76                         8\n"
     ]
    }
   ],
   "source": [
    "#Slice the relavant data using column names\n",
    "df_total_claims=outpatient_2009.loc[:, [\"DESYNPUF_ID\", \"CLM_ID\"]]\n",
    "\n",
    "#Grouping the dataframe by Beneficiary code,and count the \"CLM_ID\" column values for each patient\n",
    "total_claims=df_total_claims.groupby(\"DESYNPUF_ID\")[\"CLM_ID\"].count()\n",
    "\n",
    "#Reseting the index and rename the columns\n",
    "total_claims=total_claims.reset_index()\n",
    "total_claims=total_claims.rename(index=str,columns={\"DESYNPUF_ID\":\"PatientID\",\"CLM_ID\":\"Total claims in the year\"})\n",
    "total_claims.set_index(\"PatientID\",inplace=True)\n",
    "\n",
    "#Print first few rows to check the extracted values\n",
    "print(total_claims.head())"
   ]
  },
  {
   "cell_type": "markdown",
   "metadata": {},
   "source": [
    "## 2. Sum the  Total Costs of Outpatient care"
   ]
  },
  {
   "cell_type": "code",
   "execution_count": 9,
   "metadata": {},
   "outputs": [
    {
     "name": "stdout",
     "output_type": "stream",
     "text": [
      "                  Total Costs of Outpatient care\n",
      "PatientID                                       \n",
      "00016F745862898F                            60.0\n",
      "0001FDD721E223DC                            30.0\n",
      "00024B3D2352D2D0                            90.0\n",
      "0002F28CE057345B                          1810.0\n",
      "000308435E3E5B76                          1790.0\n"
     ]
    }
   ],
   "source": [
    "#Slice the relavant data using column names\n",
    "df_total_cost=outpatient_2009.loc[:, [\"DESYNPUF_ID\", \"CLM_PMT_AMT\"]]\n",
    "\n",
    "#Grouping the dataframe by Beneficiary code,and sum the \"CLM_PMT_AMT\" values\n",
    "total_cost=df_total_cost.groupby(\"DESYNPUF_ID\")[\"CLM_PMT_AMT\"].sum()\n",
    "\n",
    "#Reseting the index and rename the columns\n",
    "total_cost=total_cost.reset_index()\n",
    "total_cost=total_cost.rename(index=str,columns={\"DESYNPUF_ID\":\"PatientID\",\"CLM_PMT_AMT\":\"Total Costs of Outpatient care\"})\n",
    "total_cost.set_index(\"PatientID\",inplace=True)\n",
    "\n",
    "#Print first few rows to check the extracted values\n",
    "print(total_cost.head())"
   ]
  },
  {
   "cell_type": "markdown",
   "metadata": {},
   "source": [
    "## 3. Counting the total number of physicians visited including attending, operating, and other"
   ]
  },
  {
   "cell_type": "code",
   "execution_count": 10,
   "metadata": {},
   "outputs": [
    {
     "name": "stdout",
     "output_type": "stream",
     "text": [
      "                  Number of physicians visited(across attending,operating and other)\n",
      "PatientID                                                                           \n",
      "00016F745862898F                                                  2                 \n",
      "0001FDD721E223DC                                                  1                 \n",
      "00024B3D2352D2D0                                                  2                 \n",
      "0002F28CE057345B                                                 17                 \n",
      "000308435E3E5B76                                                  5                 \n"
     ]
    }
   ],
   "source": [
    "#define the function to get unique value across three columns for each patient\n",
    "def get_unique(group):\n",
    "    physician_cols = [group['AT_PHYSN_NPI'], \n",
    "                      group['OP_PHYSN_NPI'], \n",
    "                      group['OT_PHYSN_NPI']]\n",
    "    return len(pd.concat(physician_cols).dropna(inplace=False).unique())\n",
    "\n",
    "#Call the function with grouping by beneficiery code\n",
    "providers_gp=outpatient_2009.groupby(\"DESYNPUF_ID\").apply(get_unique).reset_index()\n",
    "\n",
    "#Rename column header\n",
    "provider_gp=providers_gp.rename(index=str,columns={\"DESYNPUF_ID\":\"PatientID\",\n",
    "                                                   0:\"Number of physicians visited(across attending,operating and other)\"})\n",
    "#Reseting the index and print first few rows to check values\n",
    "provider_gp.set_index(\"PatientID\",inplace=True)\n",
    "print(provider_gp.head())"
   ]
  },
  {
   "cell_type": "markdown",
   "metadata": {},
   "source": [
    "## 4. Identify most frequent claim diagnosis for the patient"
   ]
  },
  {
   "cell_type": "code",
   "execution_count": 11,
   "metadata": {},
   "outputs": [
    {
     "name": "stdout",
     "output_type": "stream",
     "text": [
      "                 Most frequent claim diagnosis for the pateint in that year\n",
      "PatientID                                                                  \n",
      "00016F745862898F                                              V5832        \n",
      "0001FDD721E223DC                                              78943        \n",
      "00024B3D2352D2D0                                               6115        \n",
      "0002F28CE057345B                                               4280        \n",
      "000308435E3E5B76                                               4019        \n"
     ]
    }
   ],
   "source": [
    "#Define the function to get most frequent value across multiple columns for each patient\n",
    "def get_claimdx_frequent(group):\n",
    "    diagnosis_cols = [group[\"ICD9_DGNS_CD_1\"], group[\"ICD9_DGNS_CD_2\"], \n",
    "                      group[\"ICD9_DGNS_CD_3\"], group[\"ICD9_DGNS_CD_4\"],\n",
    "                      group[\"ICD9_DGNS_CD_5\"], group[\"ICD9_DGNS_CD_6\"],\n",
    "                      group[\"ICD9_DGNS_CD_7\"], group[\"ICD9_DGNS_CD_8\"],\n",
    "                      group[\"ICD9_DGNS_CD_9\"], group[\"ICD9_DGNS_CD_10\"]]\n",
    "    return pd.concat(diagnosis_cols).dropna(inplace=False).value_counts().idxmax()\n",
    "\n",
    "#Call the function with grouping by beneficiery code\n",
    "claim_gp=outpatient_2009.groupby(\"DESYNPUF_ID\").apply(get_claimdx_frequent).reset_index()\n",
    "\n",
    "#Rename column header and reset index\n",
    "claim_gp=claim_gp.rename(index=str,columns={\"DESYNPUF_ID\":\"PatientID\",\n",
    "                                            0:\"Most frequent claim diagnosis for the pateint in that year\"})\n",
    "claim_gp.set_index(\"PatientID\",inplace=True)\n",
    "\n",
    "#print first few rows to check values\n",
    "print(claim_gp.head())"
   ]
  },
  {
   "cell_type": "markdown",
   "metadata": {},
   "source": [
    "## 5. Identify most frequent admitting diagnosis for the patient"
   ]
  },
  {
   "cell_type": "code",
   "execution_count": 12,
   "metadata": {},
   "outputs": [
    {
     "name": "stdout",
     "output_type": "stream",
     "text": [
      "                 Most frequent admitting Diagnosis for the patient in that year\n",
      "PatientID                                                                      \n",
      "00016F745862898F                                                NaN            \n",
      "0001FDD721E223DC                                              56409            \n",
      "00024B3D2352D2D0                                              79380            \n",
      "0002F28CE057345B                                              71947            \n",
      "000308435E3E5B76                                               2724            \n"
     ]
    }
   ],
   "source": [
    "#Slice the relavant data using column names\n",
    "admitting_df=outpatient_2009.loc[:, [\"DESYNPUF_ID\",\"ADMTNG_ICD9_DGNS_CD\"]]\n",
    "\n",
    "#Extract the most frequent value for admitting diagnosis using lamda function\n",
    "f = lambda x: np.nan if x.isnull().all() else x.value_counts().index[0]\n",
    "admitting_gp=outpatient_2009.groupby(\"DESYNPUF_ID\")[\"ADMTNG_ICD9_DGNS_CD\"].apply(f).reset_index()\n",
    "\n",
    "#Rename column header and reset index\n",
    "admitting_gp=admitting_gp.rename(index=str,columns={\"DESYNPUF_ID\":\"PatientID\",\n",
    "                                                    \"ADMTNG_ICD9_DGNS_CD\":\n",
    "                                                    \"Most frequent admitting Diagnosis for the patient in that year\"})\n",
    "admitting_gp.set_index(\"PatientID\",inplace=True)\n",
    "\n",
    "#print first few rows to check values\n",
    "print(admitting_gp.head())"
   ]
  },
  {
   "cell_type": "markdown",
   "metadata": {},
   "source": [
    "## Concotenate all the dataframe and formatting output csv file"
   ]
  },
  {
   "cell_type": "code",
   "execution_count": 13,
   "metadata": {},
   "outputs": [],
   "source": [
    "#Concotenate all the dataframe on \"PatientID\"\n",
    "data_frame=pd.concat([total_claims,total_cost,provider_gp,claim_gp,admitting_gp],axis=1).reset_index()\n",
    "data_frame.head()\n",
    "\n",
    "#convert data_frame to csv file as output\n",
    "file_name=\"output_synpuf.csv\"\n",
    "output_csv=data_frame.to_csv(file_name,index=False,encoding='utf-8')"
   ]
  }
 ],
 "metadata": {
  "kernelspec": {
   "display_name": "Python 3 (ipykernel)",
   "language": "python",
   "name": "python3"
  },
  "language_info": {
   "codemirror_mode": {
    "name": "ipython",
    "version": 3
   },
   "file_extension": ".py",
   "mimetype": "text/x-python",
   "name": "python",
   "nbconvert_exporter": "python",
   "pygments_lexer": "ipython3",
   "version": "3.7.15"
  }
 },
 "nbformat": 4,
 "nbformat_minor": 2
}
